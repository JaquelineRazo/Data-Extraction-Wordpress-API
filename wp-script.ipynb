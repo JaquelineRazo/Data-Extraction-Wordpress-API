{
  "nbformat": 4,
  "nbformat_minor": 0,
  "metadata": {
    "colab": {
      "name": "Untitled0.ipynb",
      "provenance": []
    },
    "kernelspec": {
      "name": "python3",
      "display_name": "Python 3"
    },
    "language_info": {
      "name": "python"
    }
  },
  "cells": [
    {
      "cell_type": "code",
      "execution_count": null,
      "metadata": {
        "id": "brZwG65k9hNx"
      },
      "outputs": [],
      "source": [
        "# Wordpress API\n",
        "\n",
        "# Librerias\n",
        "\n",
        "import pandas as pd\n",
        "import requests\n",
        "\n",
        "# Recuerda que para cambiar de página se utiliza ?page=2\n",
        "url = 'https://admin.name-of-your-website.com/wp-json/lico/v1/content/posts/list/daily/2022-01-27'\n",
        "\n",
        "response = requests.get(url).json()\n",
        "\n",
        "# dataframe inicial \n",
        "df = pd.DataFrame(columns = ['Author ID', 'Author', 'Title','URL','Post date', 'Category'])\n",
        "\n",
        "\n",
        "# loop inicial\n",
        "for post in response['posts']:\n",
        "    title = post['title']\n",
        "    url =post['url'].replace('https://www.name-of-your-website.com','')\n",
        "    date = post['date']\n",
        "    category = post['categories'][0]['title']\n",
        "    author_id = post['author']['id']\n",
        "    author = post['author']['name']\n",
        "    \n",
        "    df = df.append({'Author ID':author_id,\n",
        "                    'Author':author,\n",
        "                    'Title': title,\n",
        "                    'URL':url,\n",
        "                    'Post date':date,\n",
        "\n",
        "                     'Category': category}, ignore_index=True)\n",
        "    \n",
        "# Para que se agreguen las notas de las demás páginas actualiza la variable \"url\" con  ?page= + la pág. que quieras añadir, y vuelve a correr el loop inicial.\n",
        "\n",
        "# Llama al DT para corroborar que todo este correcto\n",
        "df\n",
        "\n",
        "# Puedes descargarlo o enviarlo a un google sheet\n",
        "\n",
        "df_30.to_excel('/Users/user/Downloads/name-of-your-website.xlsx', index=False)\n"
      ]
    }
  ]
}